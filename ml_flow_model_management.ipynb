{
 "cells": [
  {
   "cell_type": "code",
   "execution_count": 1,
   "id": "7b84cfa3-3752-4f87-9b20-f79b9755e31f",
   "metadata": {},
   "outputs": [],
   "source": [
    "import numpy as np\n",
    "from sklearn.datasets import make_classification\n",
    "from sklearn.model_selection import train_test_split\n",
    "from sklearn.linear_model import LogisticRegression\n",
    "from sklearn.ensemble import RandomForestClassifier\n",
    "from xgboost import XGBClassifier\n",
    "from sklearn.metrics import classification_report\n",
    "import warnings\n",
    "warnings.filterwarnings('ignore')"
   ]
  },
  {
   "cell_type": "code",
   "execution_count": 2,
   "id": "b7a3c2d0-67f5-44f4-a0b2-219a63fc3362",
   "metadata": {},
   "outputs": [
    {
     "data": {
      "text/plain": [
       "(array([0, 1]), array([900, 100], dtype=int64))"
      ]
     },
     "execution_count": 2,
     "metadata": {},
     "output_type": "execute_result"
    }
   ],
   "source": [
    "# Step 1: Create an imbalanced binary classification dataset\n",
    "X, y = make_classification(n_samples=1000, n_features=10, n_informative=2, n_redundant=8, \n",
    "                           weights=[0.9, 0.1], flip_y=0, random_state=42)\n",
    "\n",
    "np.unique(y, return_counts=True)"
   ]
  },
  {
   "cell_type": "code",
   "execution_count": 3,
   "id": "a2cd2907-1b24-42c4-8641-03e37de92590",
   "metadata": {},
   "outputs": [],
   "source": [
    "# Split the dataset into training and testing sets\n",
    "X_train, X_test, y_train, y_test = train_test_split(X, y, test_size=0.3, stratify=y, random_state=42)"
   ]
  },
  {
   "cell_type": "markdown",
   "id": "89b9f868-31d5-427c-bc6a-eeb6e295ad94",
   "metadata": {},
   "source": [
    "#### Handle class imbalance"
   ]
  },
  {
   "cell_type": "code",
   "execution_count": 4,
   "id": "d421279e-f140-49de-afe2-a5e774c514c3",
   "metadata": {},
   "outputs": [
    {
     "data": {
      "text/plain": [
       "(array([0, 1]), array([630,  70], dtype=int64))"
      ]
     },
     "execution_count": 4,
     "metadata": {},
     "output_type": "execute_result"
    }
   ],
   "source": [
    "from imblearn.combine import SMOTETomek\n",
    "\n",
    "smt = SMOTETomek(random_state=42)\n",
    "X_train_res, y_train_res = smt.fit_resample(X_train, y_train)\n",
    "np.unique(y_train, return_counts=True)"
   ]
  },
  {
   "cell_type": "markdown",
   "id": "14bbc8cd-fd4a-4738-a102-ff9ddebb1cdc",
   "metadata": {},
   "source": [
    "#### Track Experiments"
   ]
  },
  {
   "cell_type": "code",
   "execution_count": 5,
   "id": "5d1ad7d3-1796-426e-9492-772d6b5344dd",
   "metadata": {},
   "outputs": [],
   "source": [
    "models = [\n",
    "    (\n",
    "        \"Logistic Regression\", \n",
    "        {\"C\": 1, \"solver\": 'liblinear'},\n",
    "        LogisticRegression(), \n",
    "        (X_train, y_train),\n",
    "        (X_test, y_test)\n",
    "    ),\n",
    "    (\n",
    "        \"Random Forest\", \n",
    "        {\"n_estimators\": 30, \"max_depth\": 3},\n",
    "        RandomForestClassifier(), \n",
    "        (X_train, y_train),\n",
    "        (X_test, y_test)\n",
    "    ),\n",
    "    (\n",
    "        \"XGBClassifier\",\n",
    "        {\"use_label_encoder\": False, \"eval_metric\": 'logloss'},\n",
    "        XGBClassifier(), \n",
    "        (X_train, y_train),\n",
    "        (X_test, y_test)\n",
    "    ),\n",
    "    (\n",
    "        \"XGBClassifier With SMOTE\",\n",
    "        {\"use_label_encoder\": False, \"eval_metric\": 'logloss'},\n",
    "        XGBClassifier(), \n",
    "        (X_train_res, y_train_res),\n",
    "        (X_test, y_test)\n",
    "    )\n",
    "]"
   ]
  },
  {
   "cell_type": "code",
   "execution_count": 6,
   "id": "5f26f3ab-996d-40f5-8957-aa23d7d92257",
   "metadata": {},
   "outputs": [],
   "source": [
    "reports = []\n",
    "\n",
    "for model_name, params, model, train_set, test_set in models:\n",
    "    X_train = train_set[0]\n",
    "    y_train = train_set[1]\n",
    "    X_test = test_set[0]\n",
    "    y_test = test_set[1]\n",
    "    \n",
    "    model.set_params(**params)\n",
    "    model.fit(X_train, y_train)\n",
    "    y_pred = model.predict(X_test)\n",
    "    report = classification_report(y_test, y_pred, output_dict=True)\n",
    "    reports.append(report)"
   ]
  },
  {
   "cell_type": "code",
   "execution_count": 7,
   "id": "c9bb4bae-b276-48cd-8279-75d1c64115e9",
   "metadata": {},
   "outputs": [
    {
     "data": {
      "text/plain": [
       "[{'0': {'precision': 0.9454545454545454,\n",
       "   'recall': 0.9629629629629629,\n",
       "   'f1-score': 0.9541284403669725,\n",
       "   'support': 270.0},\n",
       "  '1': {'precision': 0.6,\n",
       "   'recall': 0.5,\n",
       "   'f1-score': 0.5454545454545454,\n",
       "   'support': 30.0},\n",
       "  'accuracy': 0.9166666666666666,\n",
       "  'macro avg': {'precision': 0.7727272727272727,\n",
       "   'recall': 0.7314814814814814,\n",
       "   'f1-score': 0.749791492910759,\n",
       "   'support': 300.0},\n",
       "  'weighted avg': {'precision': 0.9109090909090909,\n",
       "   'recall': 0.9166666666666666,\n",
       "   'f1-score': 0.91326105087573,\n",
       "   'support': 300.0}},\n",
       " {'0': {'precision': 0.9640287769784173,\n",
       "   'recall': 0.9925925925925926,\n",
       "   'f1-score': 0.9781021897810219,\n",
       "   'support': 270.0},\n",
       "  '1': {'precision': 0.9090909090909091,\n",
       "   'recall': 0.6666666666666666,\n",
       "   'f1-score': 0.7692307692307693,\n",
       "   'support': 30.0},\n",
       "  'accuracy': 0.96,\n",
       "  'macro avg': {'precision': 0.9365598430346631,\n",
       "   'recall': 0.8296296296296296,\n",
       "   'f1-score': 0.8736664795058956,\n",
       "   'support': 300.0},\n",
       "  'weighted avg': {'precision': 0.9585349901896664,\n",
       "   'recall': 0.96,\n",
       "   'f1-score': 0.9572150477259966,\n",
       "   'support': 300.0}},\n",
       " {'0': {'precision': 0.9781818181818182,\n",
       "   'recall': 0.9962962962962963,\n",
       "   'f1-score': 0.9871559633027523,\n",
       "   'support': 270.0},\n",
       "  '1': {'precision': 0.96,\n",
       "   'recall': 0.8,\n",
       "   'f1-score': 0.8727272727272727,\n",
       "   'support': 30.0},\n",
       "  'accuracy': 0.9766666666666667,\n",
       "  'macro avg': {'precision': 0.969090909090909,\n",
       "   'recall': 0.8981481481481481,\n",
       "   'f1-score': 0.9299416180150125,\n",
       "   'support': 300.0},\n",
       "  'weighted avg': {'precision': 0.9763636363636364,\n",
       "   'recall': 0.9766666666666667,\n",
       "   'f1-score': 0.9757130942452044,\n",
       "   'support': 300.0}},\n",
       " {'0': {'precision': 0.9814126394052045,\n",
       "   'recall': 0.9777777777777777,\n",
       "   'f1-score': 0.9795918367346939,\n",
       "   'support': 270.0},\n",
       "  '1': {'precision': 0.8064516129032258,\n",
       "   'recall': 0.8333333333333334,\n",
       "   'f1-score': 0.819672131147541,\n",
       "   'support': 30.0},\n",
       "  'accuracy': 0.9633333333333334,\n",
       "  'macro avg': {'precision': 0.8939321261542151,\n",
       "   'recall': 0.9055555555555556,\n",
       "   'f1-score': 0.8996319839411174,\n",
       "   'support': 300.0},\n",
       "  'weighted avg': {'precision': 0.9639165367550067,\n",
       "   'recall': 0.9633333333333334,\n",
       "   'f1-score': 0.9635998661759786,\n",
       "   'support': 300.0}}]"
      ]
     },
     "execution_count": 7,
     "metadata": {},
     "output_type": "execute_result"
    }
   ],
   "source": [
    "reports"
   ]
  },
  {
   "cell_type": "code",
   "execution_count": 8,
   "id": "3b8d18c4-eac8-4765-957b-a98186235589",
   "metadata": {},
   "outputs": [],
   "source": [
    "import mlflow\n",
    "import mlflow.sklearn\n",
    "import mlflow.xgboost"
   ]
  },
  {
   "cell_type": "code",
   "execution_count": null,
   "id": "3d4a0669-c699-4231-b66e-b4765fa88dfa",
   "metadata": {},
   "outputs": [],
   "source": []
  },
  {
   "cell_type": "code",
   "execution_count": 14,
   "id": "bef405f5-1261-4a6d-8f31-a3361f379a82",
   "metadata": {},
   "outputs": [
    {
     "name": "stderr",
     "output_type": "stream",
     "text": [
      "2024/09/07 15:00:39 INFO mlflow.tracking.fluent: Experiment with name 'Anomaly Detection Experiment' does not exist. Creating a new experiment.\n",
      "2024/09/07 15:00:50 WARNING mlflow.models.model: Model logged without a signature and input example. Please set `input_example` parameter when logging the model to auto infer the model signature.\n",
      "2024/09/07 15:00:50 INFO mlflow.tracking._tracking_service.client: 🏃 View run Logistic Regression at: http://localhost:5000/#/experiments/466461510124075097/runs/cc57f384621f40f683acca8bd31ea9eb.\n",
      "2024/09/07 15:00:50 INFO mlflow.tracking._tracking_service.client: 🧪 View experiment at: http://localhost:5000/#/experiments/466461510124075097.\n",
      "2024/09/07 15:00:53 WARNING mlflow.models.model: Model logged without a signature and input example. Please set `input_example` parameter when logging the model to auto infer the model signature.\n",
      "2024/09/07 15:00:54 INFO mlflow.tracking._tracking_service.client: 🏃 View run Random Forest at: http://localhost:5000/#/experiments/466461510124075097/runs/3faf83498022420d8d813ed73a2d99a7.\n",
      "2024/09/07 15:00:54 INFO mlflow.tracking._tracking_service.client: 🧪 View experiment at: http://localhost:5000/#/experiments/466461510124075097.\n",
      "2024/09/07 15:00:59 WARNING mlflow.models.model: Model logged without a signature and input example. Please set `input_example` parameter when logging the model to auto infer the model signature.\n",
      "2024/09/07 15:00:59 INFO mlflow.tracking._tracking_service.client: 🏃 View run XGBClassifier at: http://localhost:5000/#/experiments/466461510124075097/runs/22b0ced9fa3d48dcba62cb80c1e61a54.\n",
      "2024/09/07 15:00:59 INFO mlflow.tracking._tracking_service.client: 🧪 View experiment at: http://localhost:5000/#/experiments/466461510124075097.\n",
      "2024/09/07 15:01:03 WARNING mlflow.models.model: Model logged without a signature and input example. Please set `input_example` parameter when logging the model to auto infer the model signature.\n",
      "2024/09/07 15:01:03 INFO mlflow.tracking._tracking_service.client: 🏃 View run XGBClassifier With SMOTE at: http://localhost:5000/#/experiments/466461510124075097/runs/fd014bbd2ef64ef5a2a48538ecb82f80.\n",
      "2024/09/07 15:01:03 INFO mlflow.tracking._tracking_service.client: 🧪 View experiment at: http://localhost:5000/#/experiments/466461510124075097.\n"
     ]
    }
   ],
   "source": [
    "# Initialize MLflow\n",
    "mlflow.set_experiment(\"Anomaly Detection Experiment\")\n",
    "mlflow.set_tracking_uri(\"http://localhost:5000\")\n",
    "\n",
    "for i, element in enumerate(models):\n",
    "    model_name = element[0]\n",
    "    params = element[1]\n",
    "    model = element[2]\n",
    "    report = reports[i]\n",
    "    \n",
    "    with mlflow.start_run(run_name=model_name):        \n",
    "        mlflow.log_params(params)\n",
    "        mlflow.log_metrics({\n",
    "            'accuracy': report['accuracy'],\n",
    "            'recall_class_1': report['1']['recall'],\n",
    "            'recall_class_0': report['0']['recall'],\n",
    "            'f1_score_macro': report['macro avg']['f1-score']\n",
    "        })  \n",
    "        \n",
    "        if \"XGB\" in model_name:\n",
    "            mlflow.xgboost.log_model(model, \"model\")\n",
    "        else:\n",
    "            mlflow.sklearn.log_model(model, \"model\") "
   ]
  },
  {
   "cell_type": "markdown",
   "id": "f97c1a54-83e7-46c4-ac22-af5c6089b063",
   "metadata": {},
   "source": [
    "#### Register the Model"
   ]
  },
  {
   "cell_type": "code",
   "execution_count": 28,
   "id": "566f957b-6586-49c8-aed9-e1c9646b2739",
   "metadata": {},
   "outputs": [
    {
     "name": "stdin",
     "output_type": "stream",
     "text": [
      "Please type RunID fd014bbd2ef64ef5a2a48538ecb82f80\n"
     ]
    },
    {
     "name": "stderr",
     "output_type": "stream",
     "text": [
      "Successfully registered model 'XGB-Smote'.\n",
      "2024/09/07 16:00:07 INFO mlflow.store.model_registry.abstract_store: Waiting up to 300 seconds for model version to finish creation. Model name: XGB-Smote, version 1\n",
      "Created version '1' of model 'XGB-Smote'.\n",
      "2024/09/07 16:00:07 INFO mlflow.tracking._tracking_service.client: 🏃 View run XGBClassifier With SMOTE at: http://localhost:5000/#/experiments/466461510124075097/runs/fd014bbd2ef64ef5a2a48538ecb82f80.\n",
      "2024/09/07 16:00:07 INFO mlflow.tracking._tracking_service.client: 🧪 View experiment at: http://localhost:5000/#/experiments/466461510124075097.\n"
     ]
    }
   ],
   "source": [
    "model_name = 'XGB-Smote'\n",
    "run_id=input('Please type RunID')\n",
    "model_uri = f'runs:/{run_id}/model'\n",
    "\n",
    "with mlflow.start_run(run_id=run_id):\n",
    "    mlflow.register_model(model_uri=model_uri, name=model_name)"
   ]
  },
  {
   "cell_type": "markdown",
   "id": "66c5b1d9-3e29-4d3a-9c5d-6f547fcea70d",
   "metadata": {},
   "source": [
    "#### Load the Model"
   ]
  },
  {
   "cell_type": "code",
   "execution_count": 29,
   "id": "0bb7ed6f-e893-40ac-963b-2da9f3be1b3b",
   "metadata": {},
   "outputs": [
    {
     "data": {
      "application/vnd.jupyter.widget-view+json": {
       "model_id": "261fcdca724848989c295ed0fb129745",
       "version_major": 2,
       "version_minor": 0
      },
      "text/plain": [
       "Downloading artifacts:   0%|          | 0/5 [00:00<?, ?it/s]"
      ]
     },
     "metadata": {},
     "output_type": "display_data"
    },
    {
     "data": {
      "text/plain": [
       "array([0, 0, 0, 0])"
      ]
     },
     "execution_count": 29,
     "metadata": {},
     "output_type": "execute_result"
    }
   ],
   "source": [
    "model_name='XGB-Smote'\n",
    "model_version = 3\n",
    "model_uri = f\"models:/XGB-Smote@challenger\"\n",
    "\n",
    "loaded_model = mlflow.xgboost.load_model(model_uri)\n",
    "y_pred = loaded_model.predict(X_test)\n",
    "y_pred[:4]"
   ]
  },
  {
   "cell_type": "markdown",
   "id": "4ed083db-d6e6-4151-8610-e3c82e68c8ae",
   "metadata": {},
   "source": [
    "#### Transition the Model to Production"
   ]
  },
  {
   "cell_type": "code",
   "execution_count": 30,
   "id": "e142b2ae-48dc-41fb-8e3a-ba2cf51a5714",
   "metadata": {},
   "outputs": [
    {
     "name": "stderr",
     "output_type": "stream",
     "text": [
      "Successfully registered model 'anomaly-detection-prod'.\n",
      "Copied version '1' of model 'XGB-Smote' to version '1' of model 'anomaly-detection-prod'.\n"
     ]
    },
    {
     "data": {
      "text/plain": [
       "<ModelVersion: aliases=[], creation_timestamp=1725705432251, current_stage='None', description='', last_updated_timestamp=1725705432251, name='anomaly-detection-prod', run_id='fd014bbd2ef64ef5a2a48538ecb82f80', run_link='', source='models:/XGB-Smote/1', status='READY', status_message='', tags={}, user_id='', version='1'>"
      ]
     },
     "execution_count": 30,
     "metadata": {},
     "output_type": "execute_result"
    }
   ],
   "source": [
    "current_model_uri = f\"models:/XGB-Smote@challenger\"\n",
    "production_model_name = \"anomaly-detection-prod\"\n",
    "\n",
    "client = mlflow.MlflowClient()\n",
    "client.copy_model_version(src_model_uri=current_model_uri, dst_name=production_model_name)"
   ]
  },
  {
   "cell_type": "code",
   "execution_count": null,
   "id": "41f34daa-ddf1-455c-be30-c7d1959751c3",
   "metadata": {},
   "outputs": [],
   "source": []
  }
 ],
 "metadata": {
  "kernelspec": {
   "display_name": "Python 3 (ipykernel)",
   "language": "python",
   "name": "python3"
  },
  "language_info": {
   "codemirror_mode": {
    "name": "ipython",
    "version": 3
   },
   "file_extension": ".py",
   "mimetype": "text/x-python",
   "name": "python",
   "nbconvert_exporter": "python",
   "pygments_lexer": "ipython3",
   "version": "3.12.4"
  },
  "widgets": {
   "application/vnd.jupyter.widget-state+json": {
    "state": {
     "0931f3e126794bfd813b309675c940d1": {
      "model_module": "@jupyter-widgets/base",
      "model_module_version": "2.0.0",
      "model_name": "LayoutModel",
      "state": {}
     },
     "09cd884ca4924ab8a58edf2e23a5a1b7": {
      "model_module": "@jupyter-widgets/controls",
      "model_module_version": "2.0.0",
      "model_name": "FloatProgressModel",
      "state": {
       "bar_style": "danger",
       "layout": "IPY_MODEL_462d36546e784e01a117872d11994fa3",
       "max": 1,
       "style": "IPY_MODEL_63ee8920512f442999b58c45eb863ef0"
      }
     },
     "0d5121f8971b45e6a524495f8323e437": {
      "model_module": "@jupyter-widgets/controls",
      "model_module_version": "2.0.0",
      "model_name": "HTMLModel",
      "state": {
       "layout": "IPY_MODEL_7b266a5266ce49c59a956bf186e7e987",
       "style": "IPY_MODEL_cbcdcd355c6643baa1b5a3a933233648",
       "value": "Downloading artifacts:   0%"
      }
     },
     "10d727416224416cbf0664ee04b9d56c": {
      "model_module": "@jupyter-widgets/base",
      "model_module_version": "2.0.0",
      "model_name": "LayoutModel",
      "state": {}
     },
     "1176c238e4f7424e95fdab5b00482724": {
      "model_module": "@jupyter-widgets/base",
      "model_module_version": "2.0.0",
      "model_name": "LayoutModel",
      "state": {}
     },
     "1263a44715b746baadc79ad91980843a": {
      "model_module": "@jupyter-widgets/base",
      "model_module_version": "2.0.0",
      "model_name": "LayoutModel",
      "state": {}
     },
     "12ab64811c75417781e8553180c725e1": {
      "model_module": "@jupyter-widgets/controls",
      "model_module_version": "2.0.0",
      "model_name": "FloatProgressModel",
      "state": {
       "bar_style": "danger",
       "layout": "IPY_MODEL_e8bed44469d54ea58b8304c3ce9ba778",
       "max": 1,
       "style": "IPY_MODEL_3030b3f537654333bc6903986845e395"
      }
     },
     "1750871172d5481a8fea00f35d409287": {
      "model_module": "@jupyter-widgets/controls",
      "model_module_version": "2.0.0",
      "model_name": "HTMLModel",
      "state": {
       "layout": "IPY_MODEL_db11a716420e4633a21861b7298a2cfe",
       "style": "IPY_MODEL_92a08933860f46029ff9780a6eebbd59",
       "value": " 0/1 [01:03&lt;?, ?it/s]"
      }
     },
     "178d2d7be65344dba228b819be8766c5": {
      "model_module": "@jupyter-widgets/controls",
      "model_module_version": "2.0.0",
      "model_name": "HTMLModel",
      "state": {
       "layout": "IPY_MODEL_9af33c9f51d141f48c9cdc1ce907dcd3",
       "style": "IPY_MODEL_e59533ee3be54f54ac5d67abb40bae94",
       "value": " 0/1 [01:02&lt;?, ?it/s]"
      }
     },
     "19c4a6734ead417c974b8b4fc9352be6": {
      "model_module": "@jupyter-widgets/controls",
      "model_module_version": "2.0.0",
      "model_name": "HTMLModel",
      "state": {
       "layout": "IPY_MODEL_53e3c0a6d10145d0983063392692bdbe",
       "style": "IPY_MODEL_82fef65bbaa64edabb8c3091c355f2c0",
       "value": " 0/1 [01:01&lt;?, ?it/s]"
      }
     },
     "1b3b50981801473e829decfdb93ebc37": {
      "model_module": "@jupyter-widgets/controls",
      "model_module_version": "2.0.0",
      "model_name": "HTMLModel",
      "state": {
       "layout": "IPY_MODEL_b23b60429f9e45829c54d771ee602811",
       "style": "IPY_MODEL_2a279386e10d46ff9ec9fb8bb9db8b87",
       "value": " 0/1 [01:02&lt;?, ?it/s]"
      }
     },
     "1ba4cc8bd60d4b7ab9af6ffcc1b3482f": {
      "model_module": "@jupyter-widgets/base",
      "model_module_version": "2.0.0",
      "model_name": "LayoutModel",
      "state": {}
     },
     "1c173d8f172f48fa8853c3f9d05ad291": {
      "model_module": "@jupyter-widgets/base",
      "model_module_version": "2.0.0",
      "model_name": "LayoutModel",
      "state": {}
     },
     "1f0ee3c088f047f28f655db3a0199f66": {
      "model_module": "@jupyter-widgets/base",
      "model_module_version": "2.0.0",
      "model_name": "LayoutModel",
      "state": {}
     },
     "1f6f4c97460f434892416ea28312e97c": {
      "model_module": "@jupyter-widgets/controls",
      "model_module_version": "2.0.0",
      "model_name": "HTMLModel",
      "state": {
       "layout": "IPY_MODEL_1f0ee3c088f047f28f655db3a0199f66",
       "style": "IPY_MODEL_54c63cf19ccd40a592e69e474a751d4b",
       "value": "Downloading artifacts:   0%"
      }
     },
     "261fcdca724848989c295ed0fb129745": {
      "model_module": "@jupyter-widgets/controls",
      "model_module_version": "2.0.0",
      "model_name": "HBoxModel",
      "state": {
       "children": [
        "IPY_MODEL_ae9ac0070dc34a30a02f0be5c6095bd3",
        "IPY_MODEL_dbb1cc0ace3542f0ad952c6d0194ec0d",
        "IPY_MODEL_7cfcba094ab24e53b9a3c319c0032c7e"
       ],
       "layout": "IPY_MODEL_0931f3e126794bfd813b309675c940d1"
      }
     },
     "284c96aba8574e5793b99f0779e96906": {
      "model_module": "@jupyter-widgets/controls",
      "model_module_version": "2.0.0",
      "model_name": "HTMLModel",
      "state": {
       "layout": "IPY_MODEL_1c173d8f172f48fa8853c3f9d05ad291",
       "style": "IPY_MODEL_b7cb5b41f8c940a7864f1f28a9b83d7d",
       "value": "Downloading artifacts:   0%"
      }
     },
     "2a279386e10d46ff9ec9fb8bb9db8b87": {
      "model_module": "@jupyter-widgets/controls",
      "model_module_version": "2.0.0",
      "model_name": "HTMLStyleModel",
      "state": {
       "description_width": "",
       "font_size": null,
       "text_color": null
      }
     },
     "3030b3f537654333bc6903986845e395": {
      "model_module": "@jupyter-widgets/controls",
      "model_module_version": "2.0.0",
      "model_name": "ProgressStyleModel",
      "state": {
       "description_width": ""
      }
     },
     "32f3dd1b391049f2a7d67e8396ff6c2f": {
      "model_module": "@jupyter-widgets/base",
      "model_module_version": "2.0.0",
      "model_name": "LayoutModel",
      "state": {}
     },
     "33095b4e1a924e56961607cefffd29ec": {
      "model_module": "@jupyter-widgets/controls",
      "model_module_version": "2.0.0",
      "model_name": "HTMLStyleModel",
      "state": {
       "description_width": "",
       "font_size": null,
       "text_color": null
      }
     },
     "33855d46745e4635936cafc5e2c0c000": {
      "model_module": "@jupyter-widgets/controls",
      "model_module_version": "2.0.0",
      "model_name": "HTMLStyleModel",
      "state": {
       "description_width": "",
       "font_size": null,
       "text_color": null
      }
     },
     "346f357303774565a6498731cd3c19d2": {
      "model_module": "@jupyter-widgets/controls",
      "model_module_version": "2.0.0",
      "model_name": "HBoxModel",
      "state": {
       "children": [
        "IPY_MODEL_0d5121f8971b45e6a524495f8323e437",
        "IPY_MODEL_4a64faf9d6c94d9386194ee20f69f011",
        "IPY_MODEL_42e047c64f984626817f3426a63a1790"
       ],
       "layout": "IPY_MODEL_ad7af9002b6046079081979ab7e1f14e"
      }
     },
     "37b42b094a5746eab05cb289f7d02463": {
      "model_module": "@jupyter-widgets/controls",
      "model_module_version": "2.0.0",
      "model_name": "HTMLStyleModel",
      "state": {
       "description_width": "",
       "font_size": null,
       "text_color": null
      }
     },
     "38d0bb9ef9bf45f2a577d83254bd12b6": {
      "model_module": "@jupyter-widgets/base",
      "model_module_version": "2.0.0",
      "model_name": "LayoutModel",
      "state": {}
     },
     "3a9638e760cf476f82f1eca8321e1e65": {
      "model_module": "@jupyter-widgets/base",
      "model_module_version": "2.0.0",
      "model_name": "LayoutModel",
      "state": {}
     },
     "415f6eed69ff45088a5053fa0b2cd545": {
      "model_module": "@jupyter-widgets/base",
      "model_module_version": "2.0.0",
      "model_name": "LayoutModel",
      "state": {}
     },
     "42e047c64f984626817f3426a63a1790": {
      "model_module": "@jupyter-widgets/controls",
      "model_module_version": "2.0.0",
      "model_name": "HTMLModel",
      "state": {
       "layout": "IPY_MODEL_1176c238e4f7424e95fdab5b00482724",
       "style": "IPY_MODEL_c7cfb3f8e67c42f9a59a3191c0f705ae",
       "value": " 0/1 [01:01&lt;?, ?it/s]"
      }
     },
     "451a7ab499144ce095e8891c8a4d0aa2": {
      "model_module": "@jupyter-widgets/controls",
      "model_module_version": "2.0.0",
      "model_name": "HTMLModel",
      "state": {
       "layout": "IPY_MODEL_6851f0a8d48f43af9f2e5ae8df17117a",
       "style": "IPY_MODEL_d1e2093554ca4ec39071193d43852744",
       "value": " 0/1 [01:02&lt;?, ?it/s]"
      }
     },
     "451e1c6d5fa740eeb5e48049158f001b": {
      "model_module": "@jupyter-widgets/base",
      "model_module_version": "2.0.0",
      "model_name": "LayoutModel",
      "state": {}
     },
     "45646af3b1a0486c819c7790ac078e8c": {
      "model_module": "@jupyter-widgets/controls",
      "model_module_version": "2.0.0",
      "model_name": "HTMLStyleModel",
      "state": {
       "description_width": "",
       "font_size": null,
       "text_color": null
      }
     },
     "462d36546e784e01a117872d11994fa3": {
      "model_module": "@jupyter-widgets/base",
      "model_module_version": "2.0.0",
      "model_name": "LayoutModel",
      "state": {}
     },
     "4a64faf9d6c94d9386194ee20f69f011": {
      "model_module": "@jupyter-widgets/controls",
      "model_module_version": "2.0.0",
      "model_name": "FloatProgressModel",
      "state": {
       "bar_style": "danger",
       "layout": "IPY_MODEL_83648a55aff349a79f8b93257aaa6f6d",
       "max": 1,
       "style": "IPY_MODEL_6e4a4e0f5ab646dab90e7b7dbc8ebe8b"
      }
     },
     "4cc0ed1a22564b69b4c59b89a11f2121": {
      "model_module": "@jupyter-widgets/controls",
      "model_module_version": "2.0.0",
      "model_name": "FloatProgressModel",
      "state": {
       "bar_style": "danger",
       "layout": "IPY_MODEL_c9cf93bb7bca47f19b02d27a8e72bc61",
       "max": 1,
       "style": "IPY_MODEL_ef130522d941439abffb4dfee81f544e"
      }
     },
     "53e3c0a6d10145d0983063392692bdbe": {
      "model_module": "@jupyter-widgets/base",
      "model_module_version": "2.0.0",
      "model_name": "LayoutModel",
      "state": {}
     },
     "54c63cf19ccd40a592e69e474a751d4b": {
      "model_module": "@jupyter-widgets/controls",
      "model_module_version": "2.0.0",
      "model_name": "HTMLStyleModel",
      "state": {
       "description_width": "",
       "font_size": null,
       "text_color": null
      }
     },
     "5f2a0bf509ba44ebafe28bdc01f218e2": {
      "model_module": "@jupyter-widgets/controls",
      "model_module_version": "2.0.0",
      "model_name": "HBoxModel",
      "state": {
       "children": [
        "IPY_MODEL_e770a79bb11640e6b66327706752f476",
        "IPY_MODEL_e4b6743634114353aefe21760d50e800",
        "IPY_MODEL_178d2d7be65344dba228b819be8766c5"
       ],
       "layout": "IPY_MODEL_925844de822844ba94241b516f5ba579"
      }
     },
     "5fe9416639924de9b1a3098339959db6": {
      "model_module": "@jupyter-widgets/controls",
      "model_module_version": "2.0.0",
      "model_name": "HTMLModel",
      "state": {
       "layout": "IPY_MODEL_d7f32ba520a74d7c8e23b0574f8e0fb5",
       "style": "IPY_MODEL_b225114d836a43e98fbca6a1a7b0e514",
       "value": "Downloading artifacts:   0%"
      }
     },
     "62aa6d351ba744c5ae0b0a435750f594": {
      "model_module": "@jupyter-widgets/controls",
      "model_module_version": "2.0.0",
      "model_name": "FloatProgressModel",
      "state": {
       "bar_style": "danger",
       "layout": "IPY_MODEL_3a9638e760cf476f82f1eca8321e1e65",
       "max": 1,
       "style": "IPY_MODEL_b88dc505ab2f486096ce195e97d12654"
      }
     },
     "63ee8920512f442999b58c45eb863ef0": {
      "model_module": "@jupyter-widgets/controls",
      "model_module_version": "2.0.0",
      "model_name": "ProgressStyleModel",
      "state": {
       "description_width": ""
      }
     },
     "6851f0a8d48f43af9f2e5ae8df17117a": {
      "model_module": "@jupyter-widgets/base",
      "model_module_version": "2.0.0",
      "model_name": "LayoutModel",
      "state": {}
     },
     "6e4a4e0f5ab646dab90e7b7dbc8ebe8b": {
      "model_module": "@jupyter-widgets/controls",
      "model_module_version": "2.0.0",
      "model_name": "ProgressStyleModel",
      "state": {
       "description_width": ""
      }
     },
     "77578643b87a44f4bc89639f4e21b76c": {
      "model_module": "@jupyter-widgets/base",
      "model_module_version": "2.0.0",
      "model_name": "LayoutModel",
      "state": {}
     },
     "7b060a41fde5476685466048329d07bc": {
      "model_module": "@jupyter-widgets/controls",
      "model_module_version": "2.0.0",
      "model_name": "ProgressStyleModel",
      "state": {
       "description_width": ""
      }
     },
     "7b266a5266ce49c59a956bf186e7e987": {
      "model_module": "@jupyter-widgets/base",
      "model_module_version": "2.0.0",
      "model_name": "LayoutModel",
      "state": {}
     },
     "7bd4075067ca43d6916a170a37c91c10": {
      "model_module": "@jupyter-widgets/controls",
      "model_module_version": "2.0.0",
      "model_name": "HTMLModel",
      "state": {
       "layout": "IPY_MODEL_9deefc376a5141edbafefc1dd9615fb2",
       "style": "IPY_MODEL_f6d34e1445b94494933379aab1574687",
       "value": "Downloading artifacts:   0%"
      }
     },
     "7cfcba094ab24e53b9a3c319c0032c7e": {
      "model_module": "@jupyter-widgets/controls",
      "model_module_version": "2.0.0",
      "model_name": "HTMLModel",
      "state": {
       "layout": "IPY_MODEL_c064a924f69f408691a2b35277dc5f75",
       "style": "IPY_MODEL_33855d46745e4635936cafc5e2c0c000",
       "value": " 5/5 [00:02&lt;00:00,  1.05s/it]"
      }
     },
     "82fef65bbaa64edabb8c3091c355f2c0": {
      "model_module": "@jupyter-widgets/controls",
      "model_module_version": "2.0.0",
      "model_name": "HTMLStyleModel",
      "state": {
       "description_width": "",
       "font_size": null,
       "text_color": null
      }
     },
     "83648a55aff349a79f8b93257aaa6f6d": {
      "model_module": "@jupyter-widgets/base",
      "model_module_version": "2.0.0",
      "model_name": "LayoutModel",
      "state": {}
     },
     "8c31f17ffcc04f3294cb19e77997560d": {
      "model_module": "@jupyter-widgets/base",
      "model_module_version": "2.0.0",
      "model_name": "LayoutModel",
      "state": {}
     },
     "8cb548e0c792490da615bc79a7b4ac2a": {
      "model_module": "@jupyter-widgets/controls",
      "model_module_version": "2.0.0",
      "model_name": "FloatProgressModel",
      "state": {
       "bar_style": "danger",
       "layout": "IPY_MODEL_b117b27489e14c1d9be1623713a0bcce",
       "max": 1,
       "style": "IPY_MODEL_7b060a41fde5476685466048329d07bc"
      }
     },
     "8e81a9f5389046328aa211cc1bff3d2b": {
      "model_module": "@jupyter-widgets/controls",
      "model_module_version": "2.0.0",
      "model_name": "ProgressStyleModel",
      "state": {
       "description_width": ""
      }
     },
     "925844de822844ba94241b516f5ba579": {
      "model_module": "@jupyter-widgets/base",
      "model_module_version": "2.0.0",
      "model_name": "LayoutModel",
      "state": {}
     },
     "92a08933860f46029ff9780a6eebbd59": {
      "model_module": "@jupyter-widgets/controls",
      "model_module_version": "2.0.0",
      "model_name": "HTMLStyleModel",
      "state": {
       "description_width": "",
       "font_size": null,
       "text_color": null
      }
     },
     "931f3b407b8d45d8b0532c5462f6b06c": {
      "model_module": "@jupyter-widgets/controls",
      "model_module_version": "2.0.0",
      "model_name": "HTMLStyleModel",
      "state": {
       "description_width": "",
       "font_size": null,
       "text_color": null
      }
     },
     "9971ef796a2145debc0720dd41287dad": {
      "model_module": "@jupyter-widgets/controls",
      "model_module_version": "2.0.0",
      "model_name": "HBoxModel",
      "state": {
       "children": [
        "IPY_MODEL_b275ef5d34484b0b81f2f86215331d5a",
        "IPY_MODEL_62aa6d351ba744c5ae0b0a435750f594",
        "IPY_MODEL_451a7ab499144ce095e8891c8a4d0aa2"
       ],
       "layout": "IPY_MODEL_d9cdecea739446bab2088cf2a64d5e4d"
      }
     },
     "9a96d92a4a324c34adf2dc3d1ca6c3ba": {
      "model_module": "@jupyter-widgets/controls",
      "model_module_version": "2.0.0",
      "model_name": "HBoxModel",
      "state": {
       "children": [
        "IPY_MODEL_7bd4075067ca43d6916a170a37c91c10",
        "IPY_MODEL_8cb548e0c792490da615bc79a7b4ac2a",
        "IPY_MODEL_1b3b50981801473e829decfdb93ebc37"
       ],
       "layout": "IPY_MODEL_8c31f17ffcc04f3294cb19e77997560d"
      }
     },
     "9af33c9f51d141f48c9cdc1ce907dcd3": {
      "model_module": "@jupyter-widgets/base",
      "model_module_version": "2.0.0",
      "model_name": "LayoutModel",
      "state": {}
     },
     "9deefc376a5141edbafefc1dd9615fb2": {
      "model_module": "@jupyter-widgets/base",
      "model_module_version": "2.0.0",
      "model_name": "LayoutModel",
      "state": {}
     },
     "9f503eadeb6b4bed9fbe37c5fa3645b0": {
      "model_module": "@jupyter-widgets/base",
      "model_module_version": "2.0.0",
      "model_name": "LayoutModel",
      "state": {}
     },
     "ab964de66d304517a5df5dd85e19fcd3": {
      "model_module": "@jupyter-widgets/base",
      "model_module_version": "2.0.0",
      "model_name": "LayoutModel",
      "state": {}
     },
     "ac406a3de8784e52836a611ea2cd326c": {
      "model_module": "@jupyter-widgets/base",
      "model_module_version": "2.0.0",
      "model_name": "LayoutModel",
      "state": {}
     },
     "ad7af9002b6046079081979ab7e1f14e": {
      "model_module": "@jupyter-widgets/base",
      "model_module_version": "2.0.0",
      "model_name": "LayoutModel",
      "state": {}
     },
     "ae6ef87e0b4e45a4ab664ee5d90ff626": {
      "model_module": "@jupyter-widgets/controls",
      "model_module_version": "2.0.0",
      "model_name": "FloatProgressModel",
      "state": {
       "bar_style": "danger",
       "layout": "IPY_MODEL_ab964de66d304517a5df5dd85e19fcd3",
       "max": 1,
       "style": "IPY_MODEL_8e81a9f5389046328aa211cc1bff3d2b"
      }
     },
     "ae9ac0070dc34a30a02f0be5c6095bd3": {
      "model_module": "@jupyter-widgets/controls",
      "model_module_version": "2.0.0",
      "model_name": "HTMLModel",
      "state": {
       "layout": "IPY_MODEL_32f3dd1b391049f2a7d67e8396ff6c2f",
       "style": "IPY_MODEL_b7d0df8b9ca647c3b34a482c8ddb30cd",
       "value": "Downloading artifacts: 100%"
      }
     },
     "b117b27489e14c1d9be1623713a0bcce": {
      "model_module": "@jupyter-widgets/base",
      "model_module_version": "2.0.0",
      "model_name": "LayoutModel",
      "state": {}
     },
     "b225114d836a43e98fbca6a1a7b0e514": {
      "model_module": "@jupyter-widgets/controls",
      "model_module_version": "2.0.0",
      "model_name": "HTMLStyleModel",
      "state": {
       "description_width": "",
       "font_size": null,
       "text_color": null
      }
     },
     "b23b60429f9e45829c54d771ee602811": {
      "model_module": "@jupyter-widgets/base",
      "model_module_version": "2.0.0",
      "model_name": "LayoutModel",
      "state": {}
     },
     "b250e73b2b804c9482dca6820b63c04a": {
      "model_module": "@jupyter-widgets/controls",
      "model_module_version": "2.0.0",
      "model_name": "HBoxModel",
      "state": {
       "children": [
        "IPY_MODEL_5fe9416639924de9b1a3098339959db6",
        "IPY_MODEL_12ab64811c75417781e8553180c725e1",
        "IPY_MODEL_1750871172d5481a8fea00f35d409287"
       ],
       "layout": "IPY_MODEL_1263a44715b746baadc79ad91980843a"
      }
     },
     "b275ef5d34484b0b81f2f86215331d5a": {
      "model_module": "@jupyter-widgets/controls",
      "model_module_version": "2.0.0",
      "model_name": "HTMLModel",
      "state": {
       "layout": "IPY_MODEL_415f6eed69ff45088a5053fa0b2cd545",
       "style": "IPY_MODEL_931f3b407b8d45d8b0532c5462f6b06c",
       "value": "Downloading artifacts:   0%"
      }
     },
     "b7cb5b41f8c940a7864f1f28a9b83d7d": {
      "model_module": "@jupyter-widgets/controls",
      "model_module_version": "2.0.0",
      "model_name": "HTMLStyleModel",
      "state": {
       "description_width": "",
       "font_size": null,
       "text_color": null
      }
     },
     "b7d0df8b9ca647c3b34a482c8ddb30cd": {
      "model_module": "@jupyter-widgets/controls",
      "model_module_version": "2.0.0",
      "model_name": "HTMLStyleModel",
      "state": {
       "description_width": "",
       "font_size": null,
       "text_color": null
      }
     },
     "b88dc505ab2f486096ce195e97d12654": {
      "model_module": "@jupyter-widgets/controls",
      "model_module_version": "2.0.0",
      "model_name": "ProgressStyleModel",
      "state": {
       "description_width": ""
      }
     },
     "bc8af9cf0d604d878822cf4007a72673": {
      "model_module": "@jupyter-widgets/controls",
      "model_module_version": "2.0.0",
      "model_name": "ProgressStyleModel",
      "state": {
       "description_width": ""
      }
     },
     "c064a924f69f408691a2b35277dc5f75": {
      "model_module": "@jupyter-widgets/base",
      "model_module_version": "2.0.0",
      "model_name": "LayoutModel",
      "state": {}
     },
     "c4a56867f003404ab5bb7c87c79bd2bd": {
      "model_module": "@jupyter-widgets/controls",
      "model_module_version": "2.0.0",
      "model_name": "ProgressStyleModel",
      "state": {
       "description_width": ""
      }
     },
     "c7cfb3f8e67c42f9a59a3191c0f705ae": {
      "model_module": "@jupyter-widgets/controls",
      "model_module_version": "2.0.0",
      "model_name": "HTMLStyleModel",
      "state": {
       "description_width": "",
       "font_size": null,
       "text_color": null
      }
     },
     "c8a1b8630eef4355a5f3d1cd229e5573": {
      "model_module": "@jupyter-widgets/controls",
      "model_module_version": "2.0.0",
      "model_name": "HBoxModel",
      "state": {
       "children": [
        "IPY_MODEL_1f6f4c97460f434892416ea28312e97c",
        "IPY_MODEL_ae6ef87e0b4e45a4ab664ee5d90ff626",
        "IPY_MODEL_e8ef79a9627a44a58a8e383322f766b3"
       ],
       "layout": "IPY_MODEL_ac406a3de8784e52836a611ea2cd326c"
      }
     },
     "c9cf93bb7bca47f19b02d27a8e72bc61": {
      "model_module": "@jupyter-widgets/base",
      "model_module_version": "2.0.0",
      "model_name": "LayoutModel",
      "state": {}
     },
     "cbcdcd355c6643baa1b5a3a933233648": {
      "model_module": "@jupyter-widgets/controls",
      "model_module_version": "2.0.0",
      "model_name": "HTMLStyleModel",
      "state": {
       "description_width": "",
       "font_size": null,
       "text_color": null
      }
     },
     "d1e2093554ca4ec39071193d43852744": {
      "model_module": "@jupyter-widgets/controls",
      "model_module_version": "2.0.0",
      "model_name": "HTMLStyleModel",
      "state": {
       "description_width": "",
       "font_size": null,
       "text_color": null
      }
     },
     "d7f32ba520a74d7c8e23b0574f8e0fb5": {
      "model_module": "@jupyter-widgets/base",
      "model_module_version": "2.0.0",
      "model_name": "LayoutModel",
      "state": {}
     },
     "d9cdecea739446bab2088cf2a64d5e4d": {
      "model_module": "@jupyter-widgets/base",
      "model_module_version": "2.0.0",
      "model_name": "LayoutModel",
      "state": {}
     },
     "db11a716420e4633a21861b7298a2cfe": {
      "model_module": "@jupyter-widgets/base",
      "model_module_version": "2.0.0",
      "model_name": "LayoutModel",
      "state": {}
     },
     "dbb1cc0ace3542f0ad952c6d0194ec0d": {
      "model_module": "@jupyter-widgets/controls",
      "model_module_version": "2.0.0",
      "model_name": "FloatProgressModel",
      "state": {
       "bar_style": "success",
       "layout": "IPY_MODEL_9f503eadeb6b4bed9fbe37c5fa3645b0",
       "max": 5,
       "style": "IPY_MODEL_bc8af9cf0d604d878822cf4007a72673",
       "value": 5
      }
     },
     "de00f49d21a64d01816a29f52fbaf88d": {
      "model_module": "@jupyter-widgets/controls",
      "model_module_version": "2.0.0",
      "model_name": "HBoxModel",
      "state": {
       "children": [
        "IPY_MODEL_f3a042bd5d6f4e9fb98d5da535885418",
        "IPY_MODEL_4cc0ed1a22564b69b4c59b89a11f2121",
        "IPY_MODEL_de41dccb15284f9eb5b24825a6ba0e1c"
       ],
       "layout": "IPY_MODEL_1ba4cc8bd60d4b7ab9af6ffcc1b3482f"
      }
     },
     "de41dccb15284f9eb5b24825a6ba0e1c": {
      "model_module": "@jupyter-widgets/controls",
      "model_module_version": "2.0.0",
      "model_name": "HTMLModel",
      "state": {
       "layout": "IPY_MODEL_451e1c6d5fa740eeb5e48049158f001b",
       "style": "IPY_MODEL_fa5144644b0b4794b037ed19d44a7410",
       "value": " 0/1 [01:01&lt;?, ?it/s]"
      }
     },
     "e4b6743634114353aefe21760d50e800": {
      "model_module": "@jupyter-widgets/controls",
      "model_module_version": "2.0.0",
      "model_name": "FloatProgressModel",
      "state": {
       "bar_style": "danger",
       "layout": "IPY_MODEL_38d0bb9ef9bf45f2a577d83254bd12b6",
       "max": 1,
       "style": "IPY_MODEL_c4a56867f003404ab5bb7c87c79bd2bd"
      }
     },
     "e59533ee3be54f54ac5d67abb40bae94": {
      "model_module": "@jupyter-widgets/controls",
      "model_module_version": "2.0.0",
      "model_name": "HTMLStyleModel",
      "state": {
       "description_width": "",
       "font_size": null,
       "text_color": null
      }
     },
     "e770a79bb11640e6b66327706752f476": {
      "model_module": "@jupyter-widgets/controls",
      "model_module_version": "2.0.0",
      "model_name": "HTMLModel",
      "state": {
       "layout": "IPY_MODEL_10d727416224416cbf0664ee04b9d56c",
       "style": "IPY_MODEL_37b42b094a5746eab05cb289f7d02463",
       "value": "Downloading artifacts:   0%"
      }
     },
     "e8bed44469d54ea58b8304c3ce9ba778": {
      "model_module": "@jupyter-widgets/base",
      "model_module_version": "2.0.0",
      "model_name": "LayoutModel",
      "state": {}
     },
     "e8ef79a9627a44a58a8e383322f766b3": {
      "model_module": "@jupyter-widgets/controls",
      "model_module_version": "2.0.0",
      "model_name": "HTMLModel",
      "state": {
       "layout": "IPY_MODEL_77578643b87a44f4bc89639f4e21b76c",
       "style": "IPY_MODEL_33095b4e1a924e56961607cefffd29ec",
       "value": " 0/1 [01:02&lt;?, ?it/s]"
      }
     },
     "ef130522d941439abffb4dfee81f544e": {
      "model_module": "@jupyter-widgets/controls",
      "model_module_version": "2.0.0",
      "model_name": "ProgressStyleModel",
      "state": {
       "description_width": ""
      }
     },
     "f38de6148b574dc1beb5f8380693e385": {
      "model_module": "@jupyter-widgets/base",
      "model_module_version": "2.0.0",
      "model_name": "LayoutModel",
      "state": {}
     },
     "f3a042bd5d6f4e9fb98d5da535885418": {
      "model_module": "@jupyter-widgets/controls",
      "model_module_version": "2.0.0",
      "model_name": "HTMLModel",
      "state": {
       "layout": "IPY_MODEL_f38de6148b574dc1beb5f8380693e385",
       "style": "IPY_MODEL_45646af3b1a0486c819c7790ac078e8c",
       "value": "Downloading artifacts:   0%"
      }
     },
     "f6d34e1445b94494933379aab1574687": {
      "model_module": "@jupyter-widgets/controls",
      "model_module_version": "2.0.0",
      "model_name": "HTMLStyleModel",
      "state": {
       "description_width": "",
       "font_size": null,
       "text_color": null
      }
     },
     "f89da076e61b49718f4f2b6ca4d24391": {
      "model_module": "@jupyter-widgets/controls",
      "model_module_version": "2.0.0",
      "model_name": "HBoxModel",
      "state": {
       "children": [
        "IPY_MODEL_284c96aba8574e5793b99f0779e96906",
        "IPY_MODEL_09cd884ca4924ab8a58edf2e23a5a1b7",
        "IPY_MODEL_19c4a6734ead417c974b8b4fc9352be6"
       ],
       "layout": "IPY_MODEL_f92364411a3841048a8ec7220adf072b"
      }
     },
     "f92364411a3841048a8ec7220adf072b": {
      "model_module": "@jupyter-widgets/base",
      "model_module_version": "2.0.0",
      "model_name": "LayoutModel",
      "state": {}
     },
     "fa5144644b0b4794b037ed19d44a7410": {
      "model_module": "@jupyter-widgets/controls",
      "model_module_version": "2.0.0",
      "model_name": "HTMLStyleModel",
      "state": {
       "description_width": "",
       "font_size": null,
       "text_color": null
      }
     }
    },
    "version_major": 2,
    "version_minor": 0
   }
  }
 },
 "nbformat": 4,
 "nbformat_minor": 5
}
