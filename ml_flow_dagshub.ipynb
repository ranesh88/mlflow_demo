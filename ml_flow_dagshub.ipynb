{
 "cells": [
  {
   "cell_type": "code",
   "execution_count": 1,
   "id": "3366f879-bbc6-4b4a-8e2d-72a3102f7f05",
   "metadata": {},
   "outputs": [],
   "source": [
    "import numpy as np\n",
    "from sklearn.datasets import make_classification\n",
    "from sklearn.model_selection import train_test_split\n",
    "from sklearn.linear_model import LogisticRegression\n",
    "from sklearn.ensemble import RandomForestClassifier\n",
    "from xgboost import XGBClassifier\n",
    "from sklearn.metrics import classification_report\n",
    "import warnings\n",
    "warnings.filterwarnings('ignore')"
   ]
  },
  {
   "cell_type": "code",
   "execution_count": 2,
   "id": "572dc243-cb74-48b4-8afc-7696badf0011",
   "metadata": {},
   "outputs": [
    {
     "data": {
      "text/plain": [
       "(array([0, 1]), array([900, 100], dtype=int64))"
      ]
     },
     "execution_count": 2,
     "metadata": {},
     "output_type": "execute_result"
    }
   ],
   "source": [
    "# Step 1: Create an imbalanced binary classification dataset\n",
    "X, y = make_classification(n_samples=1000, n_features=10, n_informative=2, n_redundant=8, \n",
    "                           weights=[0.9, 0.1], flip_y=0, random_state=42)\n",
    "\n",
    "np.unique(y, return_counts=True)"
   ]
  },
  {
   "cell_type": "code",
   "execution_count": 3,
   "id": "f02dce14-ee45-4c55-bc4c-921d9dcbc097",
   "metadata": {},
   "outputs": [],
   "source": [
    "# Split the dataset into training and testing sets\n",
    "X_train, X_test, y_train, y_test = train_test_split(X, y, test_size=0.3, stratify=y, random_state=42)"
   ]
  },
  {
   "cell_type": "markdown",
   "id": "c590ee16-364a-4e82-bac5-47093787ff82",
   "metadata": {},
   "source": [
    "#### Handle class imbalance"
   ]
  },
  {
   "cell_type": "code",
   "execution_count": 4,
   "id": "a120e256-ea41-4ba9-9590-fffa020c3091",
   "metadata": {},
   "outputs": [
    {
     "data": {
      "text/plain": [
       "(array([0, 1]), array([619, 619], dtype=int64))"
      ]
     },
     "execution_count": 4,
     "metadata": {},
     "output_type": "execute_result"
    }
   ],
   "source": [
    "from imblearn.combine import SMOTETomek\n",
    "\n",
    "smt = SMOTETomek(random_state=42)\n",
    "X_train_res, y_train_res = smt.fit_resample(X_train, y_train)\n",
    "np.unique(y_train_res, return_counts=True)"
   ]
  },
  {
   "cell_type": "markdown",
   "id": "20bd972e-c69e-4f09-a28f-3d640a7c7177",
   "metadata": {},
   "source": [
    "#### Track Experiments"
   ]
  },
  {
   "cell_type": "code",
   "execution_count": 5,
   "id": "2d17c0fd-1f31-4733-b192-4285d530666b",
   "metadata": {},
   "outputs": [],
   "source": [
    "models = [\n",
    "    (\n",
    "        \"Logistic Regression\", \n",
    "        {\"C\": 1, \"solver\": 'liblinear'},\n",
    "        LogisticRegression(), \n",
    "        (X_train, y_train),\n",
    "        (X_test, y_test)\n",
    "    ),\n",
    "    (\n",
    "        \"Random Forest\", \n",
    "        {\"n_estimators\": 30, \"max_depth\": 3},\n",
    "        RandomForestClassifier(), \n",
    "        (X_train, y_train),\n",
    "        (X_test, y_test)\n",
    "    ),\n",
    "    (\n",
    "        \"XGBClassifier\",\n",
    "        {\"use_label_encoder\": False, \"eval_metric\": 'logloss'},\n",
    "        XGBClassifier(), \n",
    "        (X_train, y_train),\n",
    "        (X_test, y_test)\n",
    "    ),\n",
    "    (\n",
    "        \"XGBClassifier With SMOTE\",\n",
    "        {\"use_label_encoder\": False, \"eval_metric\": 'logloss'},\n",
    "        XGBClassifier(), \n",
    "        (X_train_res, y_train_res),\n",
    "        (X_test, y_test)\n",
    "    )\n",
    "]"
   ]
  },
  {
   "cell_type": "code",
   "execution_count": 6,
   "id": "b7df31c4-b724-42ea-960d-5f305626307b",
   "metadata": {},
   "outputs": [],
   "source": [
    "reports = []\n",
    "\n",
    "for model_name, params, model, train_set, test_set in models:\n",
    "    X_train = train_set[0]\n",
    "    y_train = train_set[1]\n",
    "    X_test = test_set[0]\n",
    "    y_test = test_set[1]\n",
    "    \n",
    "    model.set_params(**params)\n",
    "    model.fit(X_train, y_train)\n",
    "    y_pred = model.predict(X_test)\n",
    "    report = classification_report(y_test, y_pred, output_dict=True)\n",
    "    reports.append(report)"
   ]
  },
  {
   "cell_type": "code",
   "execution_count": 7,
   "id": "890c2c56-0dc1-4661-9650-d3ea587afde1",
   "metadata": {},
   "outputs": [
    {
     "data": {
      "text/plain": [
       "[{'0': {'precision': 0.9454545454545454,\n",
       "   'recall': 0.9629629629629629,\n",
       "   'f1-score': 0.9541284403669725,\n",
       "   'support': 270.0},\n",
       "  '1': {'precision': 0.6,\n",
       "   'recall': 0.5,\n",
       "   'f1-score': 0.5454545454545454,\n",
       "   'support': 30.0},\n",
       "  'accuracy': 0.9166666666666666,\n",
       "  'macro avg': {'precision': 0.7727272727272727,\n",
       "   'recall': 0.7314814814814814,\n",
       "   'f1-score': 0.749791492910759,\n",
       "   'support': 300.0},\n",
       "  'weighted avg': {'precision': 0.9109090909090909,\n",
       "   'recall': 0.9166666666666666,\n",
       "   'f1-score': 0.91326105087573,\n",
       "   'support': 300.0}},\n",
       " {'0': {'precision': 0.96415770609319,\n",
       "   'recall': 0.9962962962962963,\n",
       "   'f1-score': 0.9799635701275046,\n",
       "   'support': 270.0},\n",
       "  '1': {'precision': 0.9523809523809523,\n",
       "   'recall': 0.6666666666666666,\n",
       "   'f1-score': 0.7843137254901961,\n",
       "   'support': 30.0},\n",
       "  'accuracy': 0.9633333333333334,\n",
       "  'macro avg': {'precision': 0.9582693292370712,\n",
       "   'recall': 0.8314814814814815,\n",
       "   'f1-score': 0.8821386478088503,\n",
       "   'support': 300.0},\n",
       "  'weighted avg': {'precision': 0.9629800307219661,\n",
       "   'recall': 0.9633333333333334,\n",
       "   'f1-score': 0.9603985856637737,\n",
       "   'support': 300.0}},\n",
       " {'0': {'precision': 0.9781818181818182,\n",
       "   'recall': 0.9962962962962963,\n",
       "   'f1-score': 0.9871559633027523,\n",
       "   'support': 270.0},\n",
       "  '1': {'precision': 0.96,\n",
       "   'recall': 0.8,\n",
       "   'f1-score': 0.8727272727272727,\n",
       "   'support': 30.0},\n",
       "  'accuracy': 0.9766666666666667,\n",
       "  'macro avg': {'precision': 0.969090909090909,\n",
       "   'recall': 0.8981481481481481,\n",
       "   'f1-score': 0.9299416180150125,\n",
       "   'support': 300.0},\n",
       "  'weighted avg': {'precision': 0.9763636363636364,\n",
       "   'recall': 0.9766666666666667,\n",
       "   'f1-score': 0.9757130942452044,\n",
       "   'support': 300.0}},\n",
       " {'0': {'precision': 0.9814126394052045,\n",
       "   'recall': 0.9777777777777777,\n",
       "   'f1-score': 0.9795918367346939,\n",
       "   'support': 270.0},\n",
       "  '1': {'precision': 0.8064516129032258,\n",
       "   'recall': 0.8333333333333334,\n",
       "   'f1-score': 0.819672131147541,\n",
       "   'support': 30.0},\n",
       "  'accuracy': 0.9633333333333334,\n",
       "  'macro avg': {'precision': 0.8939321261542151,\n",
       "   'recall': 0.9055555555555556,\n",
       "   'f1-score': 0.8996319839411174,\n",
       "   'support': 300.0},\n",
       "  'weighted avg': {'precision': 0.9639165367550067,\n",
       "   'recall': 0.9633333333333334,\n",
       "   'f1-score': 0.9635998661759786,\n",
       "   'support': 300.0}}]"
      ]
     },
     "execution_count": 7,
     "metadata": {},
     "output_type": "execute_result"
    }
   ],
   "source": [
    "reports"
   ]
  },
  {
   "cell_type": "code",
   "execution_count": 8,
   "id": "9c5b5b80-f646-4e5a-9564-5f465d6641dc",
   "metadata": {},
   "outputs": [],
   "source": [
    "import mlflow\n",
    "import mlflow.sklearn\n",
    "import mlflow.xgboost"
   ]
  },
  {
   "cell_type": "code",
   "execution_count": 20,
   "id": "9b40adc3-da6d-4e1d-b8d9-5212da190363",
   "metadata": {},
   "outputs": [],
   "source": [
    "#!pip install dagshub"
   ]
  },
  {
   "cell_type": "code",
   "execution_count": 21,
   "id": "f53278d7-0531-45fa-b416-082a8e47760f",
   "metadata": {},
   "outputs": [],
   "source": [
    "#!pip install --upgrade httpx==0.25.0"
   ]
  },
  {
   "cell_type": "code",
   "execution_count": 22,
   "id": "d0d40945-8ca2-46e0-895e-d6cb49a1e1ef",
   "metadata": {},
   "outputs": [],
   "source": [
    "#!pip install botocore==1.34.41"
   ]
  },
  {
   "cell_type": "code",
   "execution_count": 23,
   "id": "cf0f4c04-2aca-46aa-bff9-ba2270c7be5c",
   "metadata": {},
   "outputs": [],
   "source": [
    "#!pip install jupyterlab==4.0.2"
   ]
  },
  {
   "cell_type": "code",
   "execution_count": 24,
   "id": "f2323481-70e9-42c2-af45-97426c930cfd",
   "metadata": {},
   "outputs": [],
   "source": [
    "#!pip install dagshub --use-deprecated=legacy-resolver"
   ]
  },
  {
   "cell_type": "code",
   "execution_count": 25,
   "id": "88c3180f-3f98-49a5-9596-f39aac169ddd",
   "metadata": {},
   "outputs": [],
   "source": [
    "#!pip list"
   ]
  },
  {
   "cell_type": "code",
   "execution_count": 26,
   "id": "838d5810-d6ec-437d-9e2f-4dc820fab838",
   "metadata": {},
   "outputs": [],
   "source": [
    "#!pip install botocore==1.34.41"
   ]
  },
  {
   "cell_type": "code",
   "execution_count": 27,
   "id": "3ae34252-3f6f-47be-a34b-297ed4634119",
   "metadata": {},
   "outputs": [
    {
     "data": {
      "text/html": [
       "<pre style=\"white-space:pre;overflow-x:auto;line-height:normal;font-family:Menlo,'DejaVu Sans Mono',consolas,'Courier New',monospace\">Initialized MLflow to track repo <span style=\"color: #008000; text-decoration-color: #008000\">\"ranesh88/mlflow_demo\"</span>\n",
       "</pre>\n"
      ],
      "text/plain": [
       "Initialized MLflow to track repo \u001b[32m\"ranesh88/mlflow_demo\"\u001b[0m\n"
      ]
     },
     "metadata": {},
     "output_type": "display_data"
    },
    {
     "data": {
      "text/html": [
       "<pre style=\"white-space:pre;overflow-x:auto;line-height:normal;font-family:Menlo,'DejaVu Sans Mono',consolas,'Courier New',monospace\">Repository ranesh88/mlflow_demo initialized!\n",
       "</pre>\n"
      ],
      "text/plain": [
       "Repository ranesh88/mlflow_demo initialized!\n"
      ]
     },
     "metadata": {},
     "output_type": "display_data"
    }
   ],
   "source": [
    "# dagshub setup\n",
    "import dagshub\n",
    "dagshub.init(repo_owner='ranesh88', repo_name='mlflow_demo', mlflow=True)"
   ]
  },
  {
   "cell_type": "code",
   "execution_count": 28,
   "id": "c00f9d5e-f2d3-45d1-94f5-e0eb3fe69886",
   "metadata": {},
   "outputs": [
    {
     "name": "stderr",
     "output_type": "stream",
     "text": [
      "2024/09/07 16:43:10 INFO mlflow.tracking.fluent: Experiment with name 'Anomaly Detection' does not exist. Creating a new experiment.\n",
      "2024/09/07 16:43:25 WARNING mlflow.models.model: Model logged without a signature and input example. Please set `input_example` parameter when logging the model to auto infer the model signature.\n",
      "2024/09/07 16:43:30 INFO mlflow.tracking._tracking_service.client: 🏃 View run Logistic Regression at: https://dagshub.com/ranesh88/mlflow_demo.mlflow/#/experiments/0/runs/4398e49c87f248099aee9669e0a507c3.\n",
      "2024/09/07 16:43:30 INFO mlflow.tracking._tracking_service.client: 🧪 View experiment at: https://dagshub.com/ranesh88/mlflow_demo.mlflow/#/experiments/0.\n",
      "2024/09/07 16:43:35 WARNING mlflow.models.model: Model logged without a signature and input example. Please set `input_example` parameter when logging the model to auto infer the model signature.\n",
      "2024/09/07 16:43:40 INFO mlflow.tracking._tracking_service.client: 🏃 View run Random Forest at: https://dagshub.com/ranesh88/mlflow_demo.mlflow/#/experiments/0/runs/63936fb182654df2bbe46ddaef407de4.\n",
      "2024/09/07 16:43:40 INFO mlflow.tracking._tracking_service.client: 🧪 View experiment at: https://dagshub.com/ranesh88/mlflow_demo.mlflow/#/experiments/0.\n",
      "2024/09/07 16:43:49 WARNING mlflow.models.model: Model logged without a signature and input example. Please set `input_example` parameter when logging the model to auto infer the model signature.\n",
      "2024/09/07 16:43:54 INFO mlflow.tracking._tracking_service.client: 🏃 View run XGBClassifier at: https://dagshub.com/ranesh88/mlflow_demo.mlflow/#/experiments/0/runs/a6451b6bd6b04731a86aa07ec54fe5b4.\n",
      "2024/09/07 16:43:54 INFO mlflow.tracking._tracking_service.client: 🧪 View experiment at: https://dagshub.com/ranesh88/mlflow_demo.mlflow/#/experiments/0.\n",
      "2024/09/07 16:44:00 WARNING mlflow.models.model: Model logged without a signature and input example. Please set `input_example` parameter when logging the model to auto infer the model signature.\n",
      "2024/09/07 16:44:05 INFO mlflow.tracking._tracking_service.client: 🏃 View run XGBClassifier With SMOTE at: https://dagshub.com/ranesh88/mlflow_demo.mlflow/#/experiments/0/runs/1a70a207f0ce49b7895a512150c3d6f2.\n",
      "2024/09/07 16:44:05 INFO mlflow.tracking._tracking_service.client: 🧪 View experiment at: https://dagshub.com/ranesh88/mlflow_demo.mlflow/#/experiments/0.\n"
     ]
    }
   ],
   "source": [
    "# Ideally you will not require following 4 lines if you have started fresh and do not have any previous dagshub credentials on your computer\n",
    "import os\n",
    "os.environ['MLFLOW_TRACKING_USERNAME'] = 'ranesh88' # 'ranesh88'\n",
    "os.environ['MLFLOW_TRACKING_PASSWORD'] = '1c7686a8179065bd764b7c5f644ce9d466c6fe79' # Password :: Prime@2024\n",
    "os.environ['MLFLOW_TRACKING_URI'] = 'https://dagshub.com/ranesh88/mlflow_demo.mlflow' # https://dagshub.com/ranesh88/mlflow_demo.mlflow\n",
    "\n",
    "# Initialize MLflow\n",
    "mlflow.set_experiment(\"Anomaly Detection\")\n",
    "# mlflow.set_tracking_uri(\"http://localhost:5000\")\n",
    "\n",
    "for i, element in enumerate(models):\n",
    "    model_name = element[0]\n",
    "    params = element[1]\n",
    "    model = element[2]\n",
    "    report = reports[i]\n",
    "    \n",
    "    with mlflow.start_run(run_name=model_name):        \n",
    "        mlflow.log_params(params)\n",
    "        mlflow.log_metrics({\n",
    "            'accuracy': report['accuracy'],\n",
    "            'recall_class_1': report['1']['recall'],\n",
    "            'recall_class_0': report['0']['recall'],\n",
    "            'f1_score_macro': report['macro avg']['f1-score']\n",
    "        })  \n",
    "        \n",
    "        if \"XGB\" in model_name:\n",
    "            mlflow.xgboost.log_model(model, \"model\")\n",
    "        else:\n",
    "            mlflow.sklearn.log_model(model, \"model\")  "
   ]
  },
  {
   "cell_type": "code",
   "execution_count": null,
   "id": "a781a807-6147-42e0-8251-5f62c1fca53a",
   "metadata": {},
   "outputs": [],
   "source": []
  }
 ],
 "metadata": {
  "kernelspec": {
   "display_name": "Python 3 (ipykernel)",
   "language": "python",
   "name": "python3"
  },
  "language_info": {
   "codemirror_mode": {
    "name": "ipython",
    "version": 3
   },
   "file_extension": ".py",
   "mimetype": "text/x-python",
   "name": "python",
   "nbconvert_exporter": "python",
   "pygments_lexer": "ipython3",
   "version": "3.12.4"
  },
  "widgets": {
   "application/vnd.jupyter.widget-state+json": {
    "state": {
     "421e549f6e944b95b5ecd6520d8c2736": {
      "model_module": "@jupyter-widgets/base",
      "model_module_version": "2.0.0",
      "model_name": "LayoutModel",
      "state": {}
     }
    },
    "version_major": 2,
    "version_minor": 0
   }
  }
 },
 "nbformat": 4,
 "nbformat_minor": 5
}
